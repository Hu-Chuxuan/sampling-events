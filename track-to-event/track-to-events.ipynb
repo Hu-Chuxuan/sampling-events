{
 "cells": [
  {
   "cell_type": "code",
   "execution_count": 1,
   "id": "c3add247-ae6e-449b-b0d9-215ee5ed4206",
   "metadata": {},
   "outputs": [
    {
     "name": "stdout",
     "output_type": "stream",
     "text": [
      "31000\n",
      "[{'frame_idx': 0, 'track_id': 0, 'left': 804, 'top': 307, 'right': 893, 'bottom': 396}, {'frame_idx': 0, 'track_id': 1, 'left': 447, 'top': 304, 'right': 519, 'bottom': 353}, {'frame_idx': 0, 'track_id': 2, 'left': 1582, 'top': 347, 'right': 1620, 'bottom': 373}, {'frame_idx': 0, 'track_id': 3, 'left': 1654, 'top': 423, 'right': 1701, 'bottom': 453}, {'frame_idx': 0, 'track_id': 4, 'left': 1538, 'top': 362, 'right': 1579, 'bottom': 392}, {'frame_idx': 0, 'track_id': 5, 'left': 479, 'top': 358, 'right': 539, 'bottom': 450}, {'frame_idx': 0, 'track_id': 6, 'left': 917, 'top': 356, 'right': 987, 'bottom': 393}, {'frame_idx': 0, 'track_id': 7, 'left': 605, 'top': 280, 'right': 684, 'bottom': 332}, {'frame_idx': 0, 'track_id': 8, 'left': 514, 'top': 333, 'right': 586, 'bottom': 408}, {'frame_idx': 0, 'track_id': 9, 'left': 1624, 'top': 351, 'right': 1661, 'bottom': 380}, {'frame_idx': 0, 'track_id': 10, 'left': 767, 'top': 304, 'right': 802, 'bottom': 337}, {'frame_idx': 0, 'track_id': 11, 'left': 1597, 'top': 401, 'right': 1651, 'bottom': 438}, {'frame_idx': 0, 'track_id': 12, 'left': 1688, 'top': 395, 'right': 1731, 'bottom': 431}, {'frame_idx': 0, 'track_id': 13, 'left': 1640, 'top': 379, 'right': 1673, 'bottom': 416}]\n"
     ]
    }
   ],
   "source": [
    "import json\n",
    "\n",
    "file_path = \"4-baseline.json\"\n",
    "\n",
    "with open(file_path, 'r') as file:\n",
    "    data = json.load(file)\n",
    "\n",
    "print(len(data))\n",
    "print(data[0])"
   ]
  },
  {
   "cell_type": "code",
   "execution_count": 2,
   "id": "8d04007f-06ae-4cc7-8bd8-77b0813d2e1f",
   "metadata": {},
   "outputs": [],
   "source": [
    "import numpy as np\n",
    "from math import isnan\n",
    "\n",
    "def detect_turn_left(track_coordinates):\n",
    "    if len(track_coordinates) < 3:\n",
    "        return \"Not enough data to determine\"\n",
    "\n",
    "    angles = []\n",
    "    for i in range(1, len(track_coordinates) - 1):\n",
    "        vector1 = track_coordinates[i - 1] - track_coordinates[i]\n",
    "        vector2 = track_coordinates[i + 1] - track_coordinates[i]\n",
    "\n",
    "        # Calculate the angle between the vectors\n",
    "        angle = np.arccos(np.dot(vector1, vector2) / (np.linalg.norm(vector1) * np.linalg.norm(vector2)))\n",
    "\n",
    "        if isnan(angle) == False:\n",
    "            # Convert angle to degrees\n",
    "            angle_deg = np.degrees(angle)\n",
    "            if isnan(angle_deg) == False:\n",
    "                angles.append(angle_deg)\n",
    "\n",
    "    # Calculate the average angle\n",
    "    avg_angle = np.mean(angles)\n",
    "\n",
    "\n",
    "    # Determine if the car is turning or going straight\n",
    "    if avg_angle >= 45 and avg_angle <= 135:\n",
    "        return True\n",
    "    else:\n",
    "        return False\n"
   ]
  },
  {
   "cell_type": "code",
   "execution_count": 3,
   "id": "d0d86a42-8da4-4369-bcca-1c1f2c4eda95",
   "metadata": {},
   "outputs": [],
   "source": [
    "def process(data, frame, track_num):\n",
    "    res = []\n",
    "    while frame < len(data):\n",
    "        frame_info = data[frame]\n",
    "        flag = False\n",
    "        for track_info in frame_info:\n",
    "            if track_info['track_id'] == track_num:\n",
    "                flag = True\n",
    "                break\n",
    "        if flag == False:\n",
    "            break\n",
    "        centroid = [0,0]\n",
    "        centroid[0] = (track_info['left'] + track_info['right'])/2\n",
    "        centroid[1] = (track_info['top'] + track_info['bottom'])/2\n",
    "        res.append(centroid)\n",
    "        frame += 1\n",
    "    return np.array(res)\n",
    "        "
   ]
  },
  {
   "cell_type": "code",
   "execution_count": 4,
   "id": "69cab5f8-a273-408e-98ee-5258cb27f019",
   "metadata": {},
   "outputs": [],
   "source": [
    "def event_detect(data, start_frame, track_num, event = \"turn-left\"):\n",
    "    # get the numpy array of all the coordinate sequences\n",
    "    sequence = process(data, start_frame, track_num)\n",
    "\n",
    "    # run left detection\n",
    "    res = False\n",
    "    if event == \"turn-left\":\n",
    "        res = detect_turn_left(sequence)\n",
    "    return res"
   ]
  },
  {
   "cell_type": "code",
   "execution_count": 5,
   "id": "40ffff27-d4a4-4729-9ccf-bfc2ca5d1c30",
   "metadata": {},
   "outputs": [],
   "source": [
    "from tqdm import tqdm\n",
    "def run_check(file_path):\n",
    "    seen_track = []\n",
    "    event_occurance = 0\n",
    "    with open(file_path, 'r') as file:\n",
    "        data = json.load(file)\n",
    "    for i in tqdm(range(len(data))):\n",
    "        frame = data[i]\n",
    "        if frame == None:\n",
    "            continue\n",
    "        for track in frame:\n",
    "            if track['track_id'] not in seen_track:\n",
    "                if event_detect(data, i, track['track_id']):\n",
    "                    event_occurance += 1\n",
    "                seen_track.append(track['track_id'])\n",
    "    return event_occurance, len(data)\n",
    "    "
   ]
  },
  {
   "cell_type": "code",
   "execution_count": 6,
   "id": "d96dc6f9-59a6-46dd-b584-1f6de38ae28b",
   "metadata": {},
   "outputs": [
    {
     "name": "stderr",
     "output_type": "stream",
     "text": [
      "  0%|                                                 | 0/31000 [00:00<?, ?it/s]/var/folders/39/fvsq4djn0lz6rfqd7738typc0000gq/T/ipykernel_39575/3113355297.py:14: RuntimeWarning: invalid value encountered in scalar divide\n",
      "  angle = np.arccos(np.dot(vector1, vector2) / (np.linalg.norm(vector1) * np.linalg.norm(vector2)))\n",
      "/var/folders/39/fvsq4djn0lz6rfqd7738typc0000gq/T/ipykernel_39575/3113355297.py:14: RuntimeWarning: invalid value encountered in arccos\n",
      "  angle = np.arccos(np.dot(vector1, vector2) / (np.linalg.norm(vector1) * np.linalg.norm(vector2)))\n",
      "/Library/Frameworks/Python.framework/Versions/3.10/lib/python3.10/site-packages/numpy/core/fromnumeric.py:3504: RuntimeWarning: Mean of empty slice.\n",
      "  return _methods._mean(a, axis=axis, dtype=dtype,\n",
      "/Library/Frameworks/Python.framework/Versions/3.10/lib/python3.10/site-packages/numpy/core/_methods.py:129: RuntimeWarning: invalid value encountered in scalar divide\n",
      "  ret = ret.dtype.type(ret / rcount)\n",
      "100%|███████████████████████████████████| 31000/31000 [00:03<00:00, 9516.01it/s]\n"
     ]
    },
    {
     "name": "stdout",
     "output_type": "stream",
     "text": [
      "Running File  0 has average event occurance per frame of  0.05835483870967742\n"
     ]
    },
    {
     "name": "stderr",
     "output_type": "stream",
     "text": [
      "100%|███████████████████████████████████| 31000/31000 [00:03<00:00, 9112.75it/s]\n"
     ]
    },
    {
     "name": "stdout",
     "output_type": "stream",
     "text": [
      "Running File  1 has average event occurance per frame of  0.05116129032258065\n"
     ]
    },
    {
     "name": "stderr",
     "output_type": "stream",
     "text": [
      "100%|███████████████████████████████████| 31000/31000 [00:04<00:00, 6233.83it/s]\n"
     ]
    },
    {
     "name": "stdout",
     "output_type": "stream",
     "text": [
      "Running File  2 has average event occurance per frame of  0.07838709677419355\n"
     ]
    },
    {
     "name": "stderr",
     "output_type": "stream",
     "text": [
      "100%|███████████████████████████████████| 31000/31000 [00:05<00:00, 5926.51it/s]\n"
     ]
    },
    {
     "name": "stdout",
     "output_type": "stream",
     "text": [
      "Running File  3 has average event occurance per frame of  0.08038709677419355\n"
     ]
    },
    {
     "name": "stderr",
     "output_type": "stream",
     "text": [
      "100%|███████████████████████████████████| 31000/31000 [00:07<00:00, 4309.50it/s]\n"
     ]
    },
    {
     "name": "stdout",
     "output_type": "stream",
     "text": [
      "Running File  4 has average event occurance per frame of  0.10619354838709677\n"
     ]
    },
    {
     "name": "stderr",
     "output_type": "stream",
     "text": [
      "100%|███████████████████████████████████| 25052/25052 [00:05<00:00, 4678.08it/s]"
     ]
    },
    {
     "name": "stdout",
     "output_type": "stream",
     "text": [
      "Running File  5 has average event occurance per frame of  0.11164777263292353\n"
     ]
    },
    {
     "name": "stderr",
     "output_type": "stream",
     "text": [
      "\n"
     ]
    }
   ],
   "source": [
    "for i in range(6):\n",
    "    file_path = str(i)+\"-baseline.json\"\n",
    "    occurance, frame_num = run_check(file_path)\n",
    "    print(\"Running File \",i, \"has average event occurance per frame of \", occurance/frame_num)"
   ]
  }
 ],
 "metadata": {
  "kernelspec": {
   "display_name": "Python 3 (ipykernel)",
   "language": "python",
   "name": "python3"
  },
  "language_info": {
   "codemirror_mode": {
    "name": "ipython",
    "version": 3
   },
   "file_extension": ".py",
   "mimetype": "text/x-python",
   "name": "python",
   "nbconvert_exporter": "python",
   "pygments_lexer": "ipython3",
   "version": "3.10.0"
  }
 },
 "nbformat": 4,
 "nbformat_minor": 5
}
