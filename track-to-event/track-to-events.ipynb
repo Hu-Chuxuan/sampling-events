{
 "cells": [
  {
   "cell_type": "code",
   "execution_count": 1,
   "id": "c3add247-ae6e-449b-b0d9-215ee5ed4206",
   "metadata": {},
   "outputs": [],
   "source": [
    "import json\n",
    "import numpy as np\n",
    "from math import isnan"
   ]
  },
  {
   "cell_type": "code",
   "execution_count": 2,
   "id": "8d04007f-06ae-4cc7-8bd8-77b0813d2e1f",
   "metadata": {},
   "outputs": [],
   "source": [
    "def detect_turn_left(track_coordinates):\n",
    "    if len(track_coordinates) < 3:\n",
    "        return \"Not enough data to determine\"\n",
    "\n",
    "    angles = []\n",
    "    for i in range(1, len(track_coordinates) - 1):\n",
    "        vector1 = track_coordinates[i - 1] - track_coordinates[i]\n",
    "        vector2 = track_coordinates[i + 1] - track_coordinates[i]\n",
    "\n",
    "        # Calculate the angle between the vectors\n",
    "        angle = np.arccos(np.dot(vector1, vector2) / (np.linalg.norm(vector1) * np.linalg.norm(vector2)))\n",
    "\n",
    "        if isnan(angle) == False:\n",
    "            # Convert angle to degrees\n",
    "            angle_deg = np.degrees(angle)\n",
    "            if isnan(angle_deg) == False:\n",
    "                angles.append(angle_deg)\n",
    "\n",
    "    # Calculate the average angle\n",
    "    avg_angle = np.mean(angles)\n",
    "\n",
    "\n",
    "    # Determine if the car is turning or going straight\n",
    "    if avg_angle >= 45 and avg_angle <= 135:\n",
    "        return True\n",
    "    else:\n",
    "        return False\n"
   ]
  },
  {
   "cell_type": "code",
   "execution_count": 18,
   "id": "55b4d526-894b-42cb-b9e8-d5ac028b68e1",
   "metadata": {},
   "outputs": [],
   "source": [
    "def detect_hard_brake(track_coordinates, time = 0.1):\n",
    "    if len(track_coordinates) < 40:\n",
    "        return False\n",
    "\n",
    "    speeds = []\n",
    "    for i in range(40, len(track_coordinates)):\n",
    "        zeroIdx = i - 5\n",
    "        brakeIdx = zeroIdx - 30\n",
    "        highIdx = brakeIdx - 5\n",
    "        distance_zero = np.linalg.norm(track_coordinates[i] - track_coordinates[zeroIdx])\n",
    "        distance_high = np.linalg.norm(track_coordinates[highIdx] - track_coordinates[brakeIdx])\n",
    "\n",
    "        if distance_zero < 30 and distance_high > 200:\n",
    "            return True\n",
    "\n",
    "    return False"
   ]
  },
  {
   "cell_type": "code",
   "execution_count": 4,
   "id": "d0d86a42-8da4-4369-bcca-1c1f2c4eda95",
   "metadata": {},
   "outputs": [],
   "source": [
    "def process(data, frame, track_num):\n",
    "    res = []\n",
    "    while frame < len(data):\n",
    "        frame_info = data[frame]\n",
    "        flag = False\n",
    "        for track_info in frame_info:\n",
    "            if track_info['track_id'] == track_num:\n",
    "                flag = True\n",
    "                break\n",
    "        if flag == False:\n",
    "            break\n",
    "        centroid = [0,0]\n",
    "        centroid[0] = (track_info['left'] + track_info['right'])/2\n",
    "        centroid[1] = (track_info['top'] + track_info['bottom'])/2\n",
    "        res.append(centroid)\n",
    "        frame += 1\n",
    "    return np.array(res)\n",
    "        "
   ]
  },
  {
   "cell_type": "code",
   "execution_count": 5,
   "id": "69cab5f8-a273-408e-98ee-5258cb27f019",
   "metadata": {},
   "outputs": [],
   "source": [
    "def event_detect(data, start_frame, track_num, event):\n",
    "    # get the numpy array of all the coordinate sequences\n",
    "    sequence = process(data, start_frame, track_num)\n",
    "\n",
    "    # run left detection\n",
    "    res = False\n",
    "    if event == \"turn-left\":\n",
    "        res = detect_turn_left(sequence)\n",
    "    elif event == \"hard-brake\":\n",
    "        res = detect_hard_brake(sequence)\n",
    "    return res"
   ]
  },
  {
   "cell_type": "code",
   "execution_count": 10,
   "id": "40ffff27-d4a4-4729-9ccf-bfc2ca5d1c30",
   "metadata": {},
   "outputs": [],
   "source": [
    "from tqdm import tqdm\n",
    "def run_check(file_path, event = \"turn-left\"):\n",
    "    seen_track = []\n",
    "    event_occurance = 0\n",
    "    with open(file_path, 'r') as file:\n",
    "        data = json.load(file)\n",
    "    for i in tqdm(range(len(data))):\n",
    "        frame = data[i]\n",
    "        if frame == None:\n",
    "            continue\n",
    "        for track in frame:\n",
    "            if track['track_id'] not in seen_track:\n",
    "                if event_detect(data, i, track['track_id'], event):\n",
    "                    event_occurance += 1\n",
    "                seen_track.append(track['track_id'])\n",
    "    print(event_occurance)\n",
    "    return event_occurance, len(data)\n",
    "    "
   ]
  },
  {
   "cell_type": "code",
   "execution_count": 21,
   "id": "d96dc6f9-59a6-46dd-b584-1f6de38ae28b",
   "metadata": {},
   "outputs": [
    {
     "name": "stderr",
     "output_type": "stream",
     "text": [
      "  0%|                                                 | 0/31000 [00:00<?, ?it/s]/var/folders/39/fvsq4djn0lz6rfqd7738typc0000gq/T/ipykernel_69990/791936468.py:11: RuntimeWarning: invalid value encountered in scalar divide\n",
      "  angle = np.arccos(np.dot(vector1, vector2) / (np.linalg.norm(vector1) * np.linalg.norm(vector2)))\n",
      "/var/folders/39/fvsq4djn0lz6rfqd7738typc0000gq/T/ipykernel_69990/791936468.py:11: RuntimeWarning: invalid value encountered in arccos\n",
      "  angle = np.arccos(np.dot(vector1, vector2) / (np.linalg.norm(vector1) * np.linalg.norm(vector2)))\n",
      "100%|███████████████████████████████████| 31000/31000 [00:03<00:00, 8638.46it/s]\n"
     ]
    },
    {
     "name": "stdout",
     "output_type": "stream",
     "text": [
      "787\n",
      "For turn-left event, file  0 has average event occurance per frame of  0.025387096774193547\n"
     ]
    },
    {
     "name": "stderr",
     "output_type": "stream",
     "text": [
      "100%|███████████████████████████████████| 31000/31000 [00:05<00:00, 6109.50it/s]\n"
     ]
    },
    {
     "name": "stdout",
     "output_type": "stream",
     "text": [
      "951\n",
      "For turn-left event, file  1 has average event occurance per frame of  0.03067741935483871\n"
     ]
    },
    {
     "name": "stderr",
     "output_type": "stream",
     "text": [
      "100%|███████████████████████████████████| 31000/31000 [00:08<00:00, 3786.41it/s]\n"
     ]
    },
    {
     "name": "stdout",
     "output_type": "stream",
     "text": [
      "1307\n",
      "For turn-left event, file  2 has average event occurance per frame of  0.04216129032258065\n"
     ]
    },
    {
     "name": "stderr",
     "output_type": "stream",
     "text": [
      "100%|███████████████████████████████████| 31000/31000 [00:12<00:00, 2580.28it/s]\n"
     ]
    },
    {
     "name": "stdout",
     "output_type": "stream",
     "text": [
      "1814\n",
      "For turn-left event, file  3 has average event occurance per frame of  0.058516129032258064\n"
     ]
    },
    {
     "name": "stderr",
     "output_type": "stream",
     "text": [
      "100%|███████████████████████████████████| 31000/31000 [00:15<00:00, 2052.93it/s]\n"
     ]
    },
    {
     "name": "stdout",
     "output_type": "stream",
     "text": [
      "2182\n",
      "For turn-left event, file  4 has average event occurance per frame of  0.07038709677419355\n"
     ]
    },
    {
     "name": "stderr",
     "output_type": "stream",
     "text": [
      "100%|███████████████████████████████████| 25037/25037 [00:08<00:00, 2958.03it/s]"
     ]
    },
    {
     "name": "stdout",
     "output_type": "stream",
     "text": [
      "1619\n",
      "For turn-left event, file  5 has average event occurance per frame of  0.0646642968406758\n"
     ]
    },
    {
     "name": "stderr",
     "output_type": "stream",
     "text": [
      "\n"
     ]
    }
   ],
   "source": [
    "event = \"turn-left\"\n",
    "prefix = \"warsaw/\"\n",
    "for i in range(6):\n",
    "    file_path = prefix+str(i)+\"-baseline.json\"\n",
    "    occurance, frame_num = run_check(file_path, event)\n",
    "    print(\"For\", event, \"event, file \",i, \"has average event occurance per frame of \", occurance/frame_num)"
   ]
  }
 ],
 "metadata": {
  "kernelspec": {
   "display_name": "Python 3 (ipykernel)",
   "language": "python",
   "name": "python3"
  },
  "language_info": {
   "codemirror_mode": {
    "name": "ipython",
    "version": 3
   },
   "file_extension": ".py",
   "mimetype": "text/x-python",
   "name": "python",
   "nbconvert_exporter": "python",
   "pygments_lexer": "ipython3",
   "version": "3.10.0"
  }
 },
 "nbformat": 4,
 "nbformat_minor": 5
}
