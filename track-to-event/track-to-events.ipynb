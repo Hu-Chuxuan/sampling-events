{
 "cells": [
  {
   "cell_type": "code",
   "execution_count": 1,
   "id": "c3add247-ae6e-449b-b0d9-215ee5ed4206",
   "metadata": {},
   "outputs": [],
   "source": [
    "import json\n",
    "import numpy as np\n",
    "from math import isnan"
   ]
  },
  {
   "cell_type": "code",
   "execution_count": 82,
   "id": "8d04007f-06ae-4cc7-8bd8-77b0813d2e1f",
   "metadata": {},
   "outputs": [],
   "source": [
    "def detect_turn_left(track_coordinates):\n",
    "    if len(track_coordinates) < 3:\n",
    "        return \"Not enough data to determine\"\n",
    "\n",
    "    angles = []\n",
    "    for i in range(1, len(track_coordinates) - 1):\n",
    "        vector1 = track_coordinates[i] - track_coordinates[i - 1]\n",
    "        vector2 = track_coordinates[i + 1] - track_coordinates[i]\n",
    "\n",
    "        # Calculate the angle between the vectors\n",
    "        angle = np.arccos(np.dot(vector1, vector2) / (np.linalg.norm(vector1) * np.linalg.norm(vector2)))\n",
    "\n",
    "        if isnan(angle) == False:\n",
    "            # Convert angle to degrees\n",
    "            angle_deg = np.degrees(angle)\n",
    "            if isnan(angle_deg) == False:\n",
    "                angles.append(angle_deg)\n",
    "\n",
    "    # Calculate the average angle\n",
    "    avg_angle = np.mean(angles)\n",
    "\n",
    "\n",
    "    # Determine if the car is turning or going straight\n",
    "    if avg_angle >= 45 and avg_angle <= 135:\n",
    "        return True\n",
    "    else:\n",
    "        return False\n"
   ]
  },
  {
   "cell_type": "code",
   "execution_count": 18,
   "id": "55b4d526-894b-42cb-b9e8-d5ac028b68e1",
   "metadata": {},
   "outputs": [],
   "source": [
    "def detect_hard_brake(track_coordinates, time = 0.1):\n",
    "    if len(track_coordinates) < 40:\n",
    "        return False\n",
    "\n",
    "    speeds = []\n",
    "    for i in range(40, len(track_coordinates)):\n",
    "        zeroIdx = i - 5\n",
    "        brakeIdx = zeroIdx - 30\n",
    "        highIdx = brakeIdx - 5\n",
    "        distance_zero = np.linalg.norm(track_coordinates[i] - track_coordinates[zeroIdx])\n",
    "        distance_high = np.linalg.norm(track_coordinates[highIdx] - track_coordinates[brakeIdx])\n",
    "\n",
    "        if distance_zero < 30 and distance_high > 200:\n",
    "            return True\n",
    "\n",
    "    return False"
   ]
  },
  {
   "cell_type": "code",
   "execution_count": 26,
   "id": "d0d86a42-8da4-4369-bcca-1c1f2c4eda95",
   "metadata": {},
   "outputs": [],
   "source": [
    "def process(data, frame, track_num):\n",
    "    res = []\n",
    "    while frame < len(data):\n",
    "        frame_info = data[frame]\n",
    "        if frame_info == None:\n",
    "            frame += 1\n",
    "            continue\n",
    "        flag = False\n",
    "        for track_info in frame_info:\n",
    "            if track_info['track_id'] == track_num:\n",
    "                flag = True\n",
    "                break\n",
    "        if flag == False:\n",
    "            break\n",
    "        centroid = [0,0]\n",
    "        centroid[0] = (track_info['left'] + track_info['right'])/2\n",
    "        centroid[1] = (track_info['top'] + track_info['bottom'])/2\n",
    "        res.append(centroid)\n",
    "        frame += 1\n",
    "    return np.array(res)\n",
    "        "
   ]
  },
  {
   "cell_type": "code",
   "execution_count": 5,
   "id": "69cab5f8-a273-408e-98ee-5258cb27f019",
   "metadata": {},
   "outputs": [],
   "source": [
    "def event_detect(data, start_frame, track_num, event):\n",
    "    # get the numpy array of all the coordinate sequences\n",
    "    sequence = process(data, start_frame, track_num)\n",
    "\n",
    "    # run left detection\n",
    "    res = False\n",
    "    if event == \"turn-left\":\n",
    "        res = detect_turn_left(sequence)\n",
    "    elif event == \"hard-brake\":\n",
    "        res = detect_hard_brake(sequence)\n",
    "    return res"
   ]
  },
  {
   "cell_type": "code",
   "execution_count": 10,
   "id": "40ffff27-d4a4-4729-9ccf-bfc2ca5d1c30",
   "metadata": {},
   "outputs": [],
   "source": [
    "from tqdm import tqdm\n",
    "def run_check(file_path, event = \"turn-left\"):\n",
    "    seen_track = []\n",
    "    event_occurance = 0\n",
    "    with open(file_path, 'r') as file:\n",
    "        data = json.load(file)\n",
    "    for i in tqdm(range(len(data))):\n",
    "        frame = data[i]\n",
    "        if frame == None:\n",
    "            continue\n",
    "        for track in frame:\n",
    "            if track['track_id'] not in seen_track:\n",
    "                if event_detect(data, i, track['track_id'], event):\n",
    "                    event_occurance += 1\n",
    "                seen_track.append(track['track_id'])\n",
    "    print(event_occurance)\n",
    "    return event_occurance, len(data)\n",
    "    "
   ]
  },
  {
   "cell_type": "code",
   "execution_count": 114,
   "id": "d96dc6f9-59a6-46dd-b584-1f6de38ae28b",
   "metadata": {},
   "outputs": [
    {
     "name": "stderr",
     "output_type": "stream",
     "text": [
      "  0%|                                                 | 0/31000 [00:00<?, ?it/s]/var/folders/39/fvsq4djn0lz6rfqd7738typc0000gq/T/ipykernel_69990/517488759.py:11: RuntimeWarning: invalid value encountered in scalar divide\n",
      "  angle = np.arccos(np.dot(vector1, vector2) / (np.linalg.norm(vector1) * np.linalg.norm(vector2)))\n",
      "/var/folders/39/fvsq4djn0lz6rfqd7738typc0000gq/T/ipykernel_69990/517488759.py:11: RuntimeWarning: invalid value encountered in arccos\n",
      "  angle = np.arccos(np.dot(vector1, vector2) / (np.linalg.norm(vector1) * np.linalg.norm(vector2)))\n",
      "100%|███████████████████████████████████| 31000/31000 [00:03<00:00, 8788.95it/s]\n"
     ]
    },
    {
     "name": "stdout",
     "output_type": "stream",
     "text": [
      "787\n",
      "For turn-left event, file  0 has average event occurance per frame of  0.025387096774193547\n"
     ]
    },
    {
     "name": "stderr",
     "output_type": "stream",
     "text": [
      "100%|███████████████████████████████████| 31000/31000 [00:05<00:00, 6134.19it/s]\n"
     ]
    },
    {
     "name": "stdout",
     "output_type": "stream",
     "text": [
      "951\n",
      "For turn-left event, file  1 has average event occurance per frame of  0.03067741935483871\n"
     ]
    },
    {
     "name": "stderr",
     "output_type": "stream",
     "text": [
      "100%|███████████████████████████████████| 31000/31000 [00:08<00:00, 3718.42it/s]\n"
     ]
    },
    {
     "name": "stdout",
     "output_type": "stream",
     "text": [
      "1307\n",
      "For turn-left event, file  2 has average event occurance per frame of  0.04216129032258065\n"
     ]
    },
    {
     "name": "stderr",
     "output_type": "stream",
     "text": [
      "100%|███████████████████████████████████| 31000/31000 [00:11<00:00, 2608.70it/s]\n"
     ]
    },
    {
     "name": "stdout",
     "output_type": "stream",
     "text": [
      "1814\n",
      "For turn-left event, file  3 has average event occurance per frame of  0.058516129032258064\n"
     ]
    },
    {
     "name": "stderr",
     "output_type": "stream",
     "text": [
      "100%|███████████████████████████████████| 31000/31000 [00:14<00:00, 2089.27it/s]\n"
     ]
    },
    {
     "name": "stdout",
     "output_type": "stream",
     "text": [
      "2182\n",
      "For turn-left event, file  4 has average event occurance per frame of  0.07038709677419355\n"
     ]
    },
    {
     "name": "stderr",
     "output_type": "stream",
     "text": [
      "100%|███████████████████████████████████| 25037/25037 [00:08<00:00, 2958.92it/s]"
     ]
    },
    {
     "name": "stdout",
     "output_type": "stream",
     "text": [
      "1619\n",
      "For turn-left event, file  5 has average event occurance per frame of  0.0646642968406758\n"
     ]
    },
    {
     "name": "stderr",
     "output_type": "stream",
     "text": [
      "\n"
     ]
    }
   ],
   "source": [
    "event = \"turn-left\"\n",
    "prefix = \"warsaw/\"\n",
    "for i in range(6):\n",
    "    file_path = prefix+str(i)+\"-baseline.json\"\n",
    "    occurance, frame_num = run_check(file_path, event)\n",
    "    print(\"For\", event, \"event, file \",i, \"has average event occurance per frame of \", occurance/frame_num)"
   ]
  },
  {
   "cell_type": "markdown",
   "id": "69a757a0-156c-4070-a22a-d00d324698b6",
   "metadata": {},
   "source": [
    "**BDD Dataset**"
   ]
  },
  {
   "cell_type": "code",
   "execution_count": 49,
   "id": "fe6cd2b3-b6ef-49db-8c6a-c65d67492a5a",
   "metadata": {},
   "outputs": [],
   "source": [
    "def process_bdd(data, frame, track_num):\n",
    "    res = []\n",
    "    while frame < len(data):\n",
    "        frame_info = data[frame][\"labels\"]\n",
    "        if frame_info == None:\n",
    "            frame += 1\n",
    "            continue\n",
    "        flag = False\n",
    "        for track_info in frame_info:\n",
    "            if track_info[\"id\"] == track_num:\n",
    "                flag = True\n",
    "                break\n",
    "        if flag == False:\n",
    "            break\n",
    "        centroid = [0,0]\n",
    "        box_info = track_info[\"box2d\"]\n",
    "        centroid[0] = (box_info['x1'] + box_info['x2'])/2\n",
    "        centroid[1] = (box_info['y1'] + box_info['y2'])/2\n",
    "        res.append(centroid)\n",
    "        frame += 1\n",
    "\n",
    "    return np.array(res)\n",
    "    "
   ]
  },
  {
   "cell_type": "code",
   "execution_count": 81,
   "id": "2d2d19a3-7eef-4683-9502-dbf3d0965802",
   "metadata": {},
   "outputs": [
    {
     "name": "stderr",
     "output_type": "stream",
     "text": [
      "IOPub data rate exceeded.\n",
      "The Jupyter server will temporarily stop sending output\n",
      "to the client in order to avoid crashing it.\n",
      "To change this limit, set the config variable\n",
      "`--ServerApp.iopub_data_rate_limit`.\n",
      "\n",
      "Current values:\n",
      "ServerApp.iopub_data_rate_limit=1000000.0 (bytes/sec)\n",
      "ServerApp.rate_limit_window=3.0 (secs)\n",
      "\n"
     ]
    },
    {
     "data": {
      "text/plain": [
       "40400"
      ]
     },
     "execution_count": 81,
     "metadata": {},
     "output_type": "execute_result"
    }
   ],
   "source": [
    "import glob\n",
    "from tqdm import tqdm\n",
    "\n",
    "# return [{\"car\": [], \"pedestrian\":[]}, {}, {}]\n",
    "all_tracks = []\n",
    "total_frames = 0\n",
    "\n",
    "for filepath in glob.iglob('bdd/val/*.json'):\n",
    "    res = {\"car\": [], \"pedestrian\":[], \"car_start\": [], \"pedestrian_start\": []}\n",
    "    with open(file_path, 'r') as file:\n",
    "        frames = json.load(file)\n",
    "        total_frames += len(frames)\n",
    "        seen_id = []\n",
    "        for frame_idx in range(len(frames)):\n",
    "            frame = frames[frame_idx]\n",
    "            objects = frame[\"labels\"]\n",
    "            for object in objects:\n",
    "                if (object[\"category\"] == \"car\" or object[\"category\"] == \"pedestrian\") and (object[\"id\"] not in seen_id):\n",
    "                    seen_id.append(object[\"id\"])\n",
    "                    res[object[\"category\"]].append(process_bdd(frames, frame_idx, object[\"id\"]))\n",
    "                    res[object[\"category\"]+\"_start\"].append(frame_idx)\n",
    "    all_tracks.append(res)\n",
    "                    \n",
    "            \n",
    "total_frames"
   ]
  },
  {
   "cell_type": "code",
   "execution_count": 110,
   "id": "a4757fa4-8b1a-4f60-a22e-3ca7e0657f56",
   "metadata": {},
   "outputs": [
    {
     "name": "stderr",
     "output_type": "stream",
     "text": [
      "/var/folders/39/fvsq4djn0lz6rfqd7738typc0000gq/T/ipykernel_69990/517488759.py:11: RuntimeWarning: invalid value encountered in arccos\n",
      "  angle = np.arccos(np.dot(vector1, vector2) / (np.linalg.norm(vector1) * np.linalg.norm(vector2)))\n"
     ]
    },
    {
     "data": {
      "text/plain": [
       "0.10891089108910891"
      ]
     },
     "execution_count": 110,
     "metadata": {},
     "output_type": "execute_result"
    }
   ],
   "source": [
    "cars = []\n",
    "for video in all_tracks:\n",
    "    cars.extend(video[\"car\"])\n",
    "\n",
    "event_occurance = 0\n",
    "for car_track in cars:\n",
    "    if detect_turn_left(car_track):\n",
    "        event_occurance += 1\n",
    "\n",
    "event_occurance/total_frames"
   ]
  },
  {
   "cell_type": "code",
   "execution_count": 111,
   "id": "c1aa1b8a-3298-49ca-ab61-450ccfaf2dc8",
   "metadata": {},
   "outputs": [],
   "source": [
    "def detect_hard_brake_bdd(track_coordinates, time = 0.1):\n",
    "    if len(track_coordinates) < 15:\n",
    "        return False\n",
    "\n",
    "    speeds = []\n",
    "    for i in range(40, len(track_coordinates)):\n",
    "        zeroIdx = i - 5\n",
    "        brakeIdx = zeroIdx - 5\n",
    "        highIdx = brakeIdx - 5\n",
    "        distance_zero = np.linalg.norm(track_coordinates[i] - track_coordinates[zeroIdx])\n",
    "        distance_high = np.linalg.norm(track_coordinates[highIdx] - track_coordinates[brakeIdx])\n",
    "\n",
    "        if distance_zero < 10 and distance_high > 50:\n",
    "            return True\n",
    "\n",
    "    return False"
   ]
  },
  {
   "cell_type": "code",
   "execution_count": 80,
   "id": "7c28ecd2-989f-4699-904e-698bc600e5c6",
   "metadata": {},
   "outputs": [
    {
     "data": {
      "text/plain": [
       "0.0049504950495049506"
      ]
     },
     "execution_count": 80,
     "metadata": {},
     "output_type": "execute_result"
    }
   ],
   "source": [
    "event_occurance = 0\n",
    "for car_track in cars:\n",
    "    if detect_hard_brake_bdd(car_track):\n",
    "        event_occurance += 1\n",
    "\n",
    "event_occurance/total_frames"
   ]
  },
  {
   "cell_type": "code",
   "execution_count": 109,
   "id": "7a206118-9f93-4d8f-bd93-c87887b25676",
   "metadata": {},
   "outputs": [
    {
     "name": "stderr",
     "output_type": "stream",
     "text": [
      "/var/folders/39/fvsq4djn0lz6rfqd7738typc0000gq/T/ipykernel_69990/2590252481.py:4: DeprecationWarning: Calling np.sum(generator) is deprecated, and in the future will give a different result. Use np.sum(np.fromiter(generator)) or the python sum builtin instead.\n",
      "  distance = np.average(np.sum(np.linalg.norm(i) for i in difference_coordinates))\n",
      "/var/folders/39/fvsq4djn0lz6rfqd7738typc0000gq/T/ipykernel_69990/2590252481.py:13: RuntimeWarning: invalid value encountered in arccos\n",
      "  angle = np.arccos(np.dot(vector1, vector2) / (np.linalg.norm(vector1) * np.linalg.norm(vector2)))\n"
     ]
    },
    {
     "data": {
      "text/plain": [
       "0.25742574257425743"
      ]
     },
     "execution_count": 109,
     "metadata": {},
     "output_type": "execute_result"
    }
   ],
   "source": [
    "from itertools import product\n",
    "\n",
    "event_occurance = 0\n",
    "\n",
    "for video in all_tracks:\n",
    "    start = list(product(video[\"car_start\"], video[\"pedestrian_start\"]))\n",
    "    for i in range(len(list(product(video[\"car\"], video[\"pedestrian\"])))):\n",
    "        pair = list(product(video[\"car\"], video[\"pedestrian\"]))[i]\n",
    "        \n",
    "        car_list = pair[0]\n",
    "        pedestrian_list = pair[1]\n",
    "\n",
    "        car_start = start[i][0]\n",
    "        car_end = car_start + len(car_list)\n",
    "\n",
    "        pedestrian_start = start[i][1]\n",
    "        pedestrian_end = pedestrian_start + len(pedestrian_list)\n",
    "\n",
    "        if car_start > pedestrian_start:\n",
    "            if car_start - pedestrian_start > len(pedestrian_list):\n",
    "                continue\n",
    "            pedestrian_list = pedestrian_list[car_start - pedestrian_start:]\n",
    "        else:\n",
    "            if pedestrian_start - car_start > len(car_list):\n",
    "                continue\n",
    "            car_list = car_list[pedestrian_start - car_start:]\n",
    "\n",
    "        if car_end < pedestrian_end:\n",
    "            if pedestrian_end - car_end > len(pedestrian_list):\n",
    "                continue\n",
    "            pedestrian_list = pedestrian_list[:-(pedestrian_end - car_end)]\n",
    "        else:\n",
    "            if car_end - pedestrian_end > len(car_list):\n",
    "                continue\n",
    "            car_list = car_list[:-(car_end - pedestrian_end)]\n",
    "        if len(car_list) == 0 or len(pedestrian_list) == 0:\n",
    "            continue\n",
    "        assert len(car_list) == len(pedestrian_list)\n",
    "\n",
    "        if detect_pedestrian_car(pedestrian_list, car_list):\n",
    "            event_occurance += 1\n",
    "event_occurance/total_frames          "
   ]
  },
  {
   "cell_type": "code",
   "execution_count": 108,
   "id": "3b616bdb-e538-4245-b48e-74dc34db9e0c",
   "metadata": {},
   "outputs": [],
   "source": [
    "def detect_pedestrian_car(pedestrian, car, distance_threshold = 5000):\n",
    "\n",
    "    difference_coordinates = car - pedestrian\n",
    "    distance = np.average(np.sum(np.linalg.norm(i) for i in difference_coordinates))\n",
    "    if distance >= distance_threshold:\n",
    "        return False\n",
    "    angles = []\n",
    "    for i in range(1, len(difference_coordinates) - 1):\n",
    "        vector1 = difference_coordinates[i] - difference_coordinates[i - 1]\n",
    "        vector2 = difference_coordinates[i + 1] - difference_coordinates[i]\n",
    "\n",
    "        # Calculate the angle between the vectors\n",
    "        angle = np.arccos(np.dot(vector1, vector2) / (np.linalg.norm(vector1) * np.linalg.norm(vector2)))\n",
    "\n",
    "        if isnan(angle) == False:\n",
    "            # Convert angle to degrees\n",
    "            angle_deg = np.degrees(angle)\n",
    "            if isnan(angle_deg) == False:\n",
    "                angles.append(angle_deg)\n",
    "\n",
    "    # Calculate the average angle\n",
    "    avg_angle = np.mean(angles)\n",
    "\n",
    "\n",
    "    # Determine if the car is turning or going straight\n",
    "    if avg_angle >= 30 and avg_angle <= 150:\n",
    "        return True\n",
    "    else:\n",
    "        return False"
   ]
  }
 ],
 "metadata": {
  "kernelspec": {
   "display_name": "Python 3 (ipykernel)",
   "language": "python",
   "name": "python3"
  },
  "language_info": {
   "codemirror_mode": {
    "name": "ipython",
    "version": 3
   },
   "file_extension": ".py",
   "mimetype": "text/x-python",
   "name": "python",
   "nbconvert_exporter": "python",
   "pygments_lexer": "ipython3",
   "version": "3.10.0"
  }
 },
 "nbformat": 4,
 "nbformat_minor": 5
}
